{
 "cells": [
  {
   "cell_type": "markdown",
   "id": "ca246080",
   "metadata": {},
   "source": [
    "# Bharat Intern - VIRTUAL INTERNSHIP 2023"
   ]
  },
  {
   "cell_type": "markdown",
   "id": "d66f828d",
   "metadata": {},
   "source": [
    "# By - Palagiri Ganesh Harsha"
   ]
  },
  {
   "cell_type": "markdown",
   "id": "762213ac",
   "metadata": {},
   "source": [
    "# Task 2 - Auto Correct tool \n",
    "The AI tool that must correct the word or give the word which is nearest to it."
   ]
  },
  {
   "cell_type": "markdown",
   "id": "8cdadf13",
   "metadata": {},
   "source": [
    "# Installing the packages\n",
    "1. Clone the repository to your local machine.\n",
    "2. Install the pyenchant library using pip install pyenchant.\n",
    "3. Run the script using python autocorrect.ipynb.\n"
   ]
  },
  {
   "cell_type": "code",
   "execution_count": null,
   "id": "60de372d",
   "metadata": {},
   "outputs": [],
   "source": [
    "!pip install pyenchant"
   ]
  },
  {
   "cell_type": "code",
   "execution_count": 8,
   "id": "fb637b1a",
   "metadata": {},
   "outputs": [
    {
     "name": "stdout",
     "output_type": "stream",
     "text": [
      "Defaulting to user installation because normal site-packages is not writeable\n",
      "Requirement already satisfied: spello in c:\\users\\palag\\appdata\\roaming\\python\\python310\\site-packages (1.3.0)\n",
      "Requirement already satisfied: nltk<4,>=3.4.5 in e:\\python\\lib\\site-packages (from spello) (3.7)\n",
      "Requirement already satisfied: joblib in e:\\python\\lib\\site-packages (from nltk<4,>=3.4.5->spello) (1.1.1)\n",
      "Requirement already satisfied: regex>=2021.8.3 in e:\\python\\lib\\site-packages (from nltk<4,>=3.4.5->spello) (2022.7.9)\n",
      "Requirement already satisfied: click in e:\\python\\lib\\site-packages (from nltk<4,>=3.4.5->spello) (8.0.4)\n",
      "Requirement already satisfied: tqdm in e:\\python\\lib\\site-packages (from nltk<4,>=3.4.5->spello) (4.64.1)\n",
      "Requirement already satisfied: colorama in e:\\python\\lib\\site-packages (from click->nltk<4,>=3.4.5->spello) (0.4.6)\n"
     ]
    }
   ],
   "source": [
    "!pip install spello"
   ]
  },
  {
   "cell_type": "markdown",
   "id": "eeb3e6f0",
   "metadata": {},
   "source": [
    "# Importing the spello model "
   ]
  },
  {
   "cell_type": "code",
   "execution_count": 9,
   "id": "9715e545",
   "metadata": {},
   "outputs": [],
   "source": [
    "from spello.model import SpellCorrectionModel"
   ]
  },
  {
   "cell_type": "code",
   "execution_count": 10,
   "id": "6c2cf95d",
   "metadata": {},
   "outputs": [],
   "source": [
    "sp = SpellCorrectionModel(language=\"en\")"
   ]
  },
  {
   "cell_type": "markdown",
   "id": "7f286573",
   "metadata": {},
   "source": [
    "# Loading the text dataset"
   ]
  },
  {
   "cell_type": "code",
   "execution_count": 13,
   "id": "0f2103c6",
   "metadata": {},
   "outputs": [],
   "source": [
    "with open (\"C://Users//palag//Downloads//Compressed//New Folder//Auto_Correct_Tool-main//Auto_Correct_Tool-main//words.txt\") as file:\n",
    "    data = file.readlines()\n",
    "\n",
    "data = [i.strip() for i in data]"
   ]
  },
  {
   "cell_type": "markdown",
   "id": "c400047e",
   "metadata": {},
   "source": [
    "# Training the data"
   ]
  },
  {
   "cell_type": "code",
   "execution_count": 14,
   "id": "71f76842",
   "metadata": {},
   "outputs": [
    {
     "name": "stdout",
     "output_type": "stream",
     "text": [
      "Spello training started..\n",
      "Context model training started ...\n",
      "Symspell training started ...\n",
      "Phoneme training started ...\n",
      "Spello training completed successfully ...\n"
     ]
    }
   ],
   "source": [
    "sp.train(data)"
   ]
  },
  {
   "cell_type": "code",
   "execution_count": 15,
   "id": "ba2876bb",
   "metadata": {},
   "outputs": [
    {
     "data": {
      "text/plain": [
       "'.\\\\model.pkl'"
      ]
     },
     "execution_count": 15,
     "metadata": {},
     "output_type": "execute_result"
    }
   ],
   "source": [
    "sp.save(\"\")"
   ]
  },
  {
   "cell_type": "code",
   "execution_count": 16,
   "id": "bd8be175",
   "metadata": {},
   "outputs": [
    {
     "data": {
      "text/plain": [
       "<spello.model.SpellCorrectionModel at 0x1679f7a8cd0>"
      ]
     },
     "execution_count": 16,
     "metadata": {},
     "output_type": "execute_result"
    }
   ],
   "source": [
    "\n",
    "\n",
    "sp.load(\"model.pkl\")\n",
    "\n"
   ]
  },
  {
   "cell_type": "markdown",
   "id": "afa3b04e",
   "metadata": {},
   "source": [
    "# Giving input with wrong spelling"
   ]
  },
  {
   "cell_type": "code",
   "execution_count": 17,
   "id": "94e0efce",
   "metadata": {},
   "outputs": [
    {
     "name": "stdout",
     "output_type": "stream",
     "text": [
      "Enter the word/sentence : skool\n"
     ]
    }
   ],
   "source": [
    "sentence = input(\"Enter the word/sentence : \")"
   ]
  },
  {
   "cell_type": "code",
   "execution_count": 18,
   "id": "f8666501",
   "metadata": {},
   "outputs": [],
   "source": [
    "words = sentence.split()"
   ]
  },
  {
   "cell_type": "markdown",
   "id": "4be5bf08",
   "metadata": {},
   "source": [
    "# Output with correct spelling"
   ]
  },
  {
   "cell_type": "code",
   "execution_count": 19,
   "id": "5131d727",
   "metadata": {},
   "outputs": [
    {
     "data": {
      "text/plain": [
       "'skill'"
      ]
     },
     "execution_count": 19,
     "metadata": {},
     "output_type": "execute_result"
    }
   ],
   "source": [
    "correct_words = []\n",
    "for word in words:\n",
    "    corrected = sp.spell_correct(word)\n",
    "    correct_words.append(corrected['spell_corrected_text'])\n",
    "    \n",
    "corrected_sentence = \" \".join(correct_words)\n",
    "\n",
    "corrected_sentence"
   ]
  },
  {
   "cell_type": "code",
   "execution_count": null,
   "id": "2c429aad",
   "metadata": {},
   "outputs": [],
   "source": []
  },
  {
   "cell_type": "code",
   "execution_count": null,
   "id": "c1283cbb",
   "metadata": {},
   "outputs": [],
   "source": []
  },
  {
   "cell_type": "code",
   "execution_count": null,
   "id": "3f534d40",
   "metadata": {},
   "outputs": [],
   "source": []
  }
 ],
 "metadata": {
  "kernelspec": {
   "display_name": "Python 3 (ipykernel)",
   "language": "python",
   "name": "python3"
  },
  "language_info": {
   "codemirror_mode": {
    "name": "ipython",
    "version": 3
   },
   "file_extension": ".py",
   "mimetype": "text/x-python",
   "name": "python",
   "nbconvert_exporter": "python",
   "pygments_lexer": "ipython3",
   "version": "3.10.9"
  }
 },
 "nbformat": 4,
 "nbformat_minor": 5
}
