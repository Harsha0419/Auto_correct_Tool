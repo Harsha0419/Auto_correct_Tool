{
 "cells": [
  {
   "cell_type": "markdown",
   "id": "ca246080",
   "metadata": {},
   "source": [
    "# Bharat Intern - VIRTUAL INTERNSHIP 2023"
   ]
  },
  {
   "cell_type": "markdown",
   "id": "d66f828d",
   "metadata": {},
   "source": [
    "# By - Riya Kumari"
   ]
  },
  {
   "cell_type": "markdown",
   "id": "762213ac",
   "metadata": {},
   "source": [
    "# Task 2 - Auto Correct tool \n",
    "The AI tool that must correct the word or give the word which is nearest to it."
   ]
  },
  {
   "cell_type": "markdown",
   "id": "8cdadf13",
   "metadata": {},
   "source": [
    "# Installing the packages\n",
    "1. Clone the repository to your local machine.\n",
    "2. Install the pyenchant library using pip install pyenchant.\n",
    "3. Run the script using python autocorrect.ipynb.\n"
   ]
  },
  {
   "cell_type": "code",
   "execution_count": null,
   "id": "60de372d",
   "metadata": {},
   "outputs": [],
   "source": [
    "!pip install pyenchant"
   ]
  },
  {
   "cell_type": "code",
   "execution_count": null,
   "id": "fb637b1a",
   "metadata": {},
   "outputs": [],
   "source": [
    "!pip install spello"
   ]
  },
  {
   "cell_type": "markdown",
   "id": "eeb3e6f0",
   "metadata": {},
   "source": [
    "# Importing the spello model "
   ]
  },
  {
   "cell_type": "code",
   "execution_count": null,
   "id": "9715e545",
   "metadata": {},
   "outputs": [],
   "source": [
    "from spello.model import SpellCorrectionModel"
   ]
  },
  {
   "cell_type": "code",
   "execution_count": null,
   "id": "6c2cf95d",
   "metadata": {},
   "outputs": [],
   "source": [
    "sp = SpellCorrectionModel(language=\"en\")"
   ]
  },
  {
   "cell_type": "markdown",
   "id": "7f286573",
   "metadata": {},
   "source": [
    "# Loading the text dataset"
   ]
  },
  {
   "cell_type": "code",
   "execution_count": null,
   "id": "0f2103c6",
   "metadata": {},
   "outputs": [],
   "source": [
    "with open (\"C://Users//Dell//Downloads//words.txt\") as file:\n",
    "    data = file.readlines()\n",
    "\n",
    "data = [i.strip() for i in data]"
   ]
  },
  {
   "cell_type": "markdown",
   "id": "c400047e",
   "metadata": {},
   "source": [
    "# Training the data"
   ]
  },
  {
   "cell_type": "code",
   "execution_count": null,
   "id": "71f76842",
   "metadata": {},
   "outputs": [],
   "source": [
    "sp.train(data)"
   ]
  },
  {
   "cell_type": "code",
   "execution_count": null,
   "id": "ba2876bb",
   "metadata": {},
   "outputs": [],
   "source": [
    "sp.save(\"\")"
   ]
  },
  {
   "cell_type": "code",
   "execution_count": null,
   "id": "bd8be175",
   "metadata": {},
   "outputs": [],
   "source": [
    "\n",
    "\n",
    "sp.load(\"model.pkl\")\n",
    "\n"
   ]
  },
  {
   "cell_type": "markdown",
   "id": "afa3b04e",
   "metadata": {},
   "source": [
    "# Giving input with wrong spelling"
   ]
  },
  {
   "cell_type": "code",
   "execution_count": null,
   "id": "94e0efce",
   "metadata": {},
   "outputs": [],
   "source": [
    "sentence = input(\"Enter the word/sentence : \")"
   ]
  },
  {
   "cell_type": "code",
   "execution_count": null,
   "id": "f8666501",
   "metadata": {},
   "outputs": [],
   "source": [
    "words = sentence.split()"
   ]
  },
  {
   "cell_type": "markdown",
   "id": "4be5bf08",
   "metadata": {},
   "source": [
    "# Output with correct spelling"
   ]
  },
  {
   "cell_type": "code",
   "execution_count": null,
   "id": "5131d727",
   "metadata": {},
   "outputs": [],
   "source": [
    "correct_words = []\n",
    "for word in words:\n",
    "    corrected = sp.spell_correct(word)\n",
    "    correct_words.append(corrected['spell_corrected_text'])\n",
    "    \n",
    "corrected_sentence = \" \".join(correct_words)\n",
    "\n",
    "corrected_sentence"
   ]
  },
  {
   "cell_type": "code",
   "execution_count": null,
   "id": "2c429aad",
   "metadata": {},
   "outputs": [],
   "source": []
  },
  {
   "cell_type": "code",
   "execution_count": null,
   "id": "ecae9676",
   "metadata": {},
   "outputs": [],
   "source": []
  }
 ],
 "metadata": {
  "kernelspec": {
   "display_name": "Python 3 (ipykernel)",
   "language": "python",
   "name": "python3"
  },
  "language_info": {
   "codemirror_mode": {
    "name": "ipython",
    "version": 3
   },
   "file_extension": ".py",
   "mimetype": "text/x-python",
   "name": "python",
   "nbconvert_exporter": "python",
   "pygments_lexer": "ipython3",
   "version": "3.10.9"
  }
 },
 "nbformat": 4,
 "nbformat_minor": 5
}
